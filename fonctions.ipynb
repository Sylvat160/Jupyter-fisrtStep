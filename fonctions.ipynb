{
 "cells": [
  {
   "cell_type": "code",
   "execution_count": 10,
   "id": "e8fbad49",
   "metadata": {},
   "outputs": [],
   "source": [
    "import numpy as np\n",
    "import matplotlib.pyplot as plt\n",
    "from sklearn.datasets import make_regression"
   ]
  },
  {
   "cell_type": "code",
   "execution_count": 13,
   "id": "18630293",
   "metadata": {},
   "outputs": [
    {
     "data": {
      "text/plain": [
       "<matplotlib.collections.PathCollection at 0x7f50a0fd5430>"
      ]
     },
     "execution_count": 13,
     "metadata": {},
     "output_type": "execute_result"
    },
    {
     "data": {
      "image/png": "[encoded data removed]",
      "text/plain": [
       "<Figure size 432x288 with 1 Axes>"
      ]
     },
     "metadata": {
      "needs_background": "light"
     },
     "output_type": "display_data"
    }
   ],
   "source": [
    "x, y = make_regression(n_samples=100, n_features=1, noise=10)\n",
    "plt.scatter(x,y)"
   ]
  },
  {
   "cell_type": "code",
   "execution_count": 16,
   "id": "3f6a665e",
   "metadata": {},
   "outputs": [
    {
     "name": "stdout",
     "output_type": "stream",
     "text": [
      "(100, 1)\n",
      "(100, 1)\n"
     ]
    }
   ],
   "source": [
    "print(x.shape)\n",
    "y = y.reshape(y.shape[0],1)\n",
    "print(y.shape)"
   ]
  },
  {
   "cell_type": "code",
   "execution_count": 18,
   "id": "6dce2948",
   "metadata": {},
   "outputs": [
    {
     "data": {
      "text/plain": [
       "array([[-1.74507935,  1.        ],\n",
       "       [-1.32828034,  1.        ],\n",
       "       [ 1.41775241,  1.        ],\n",
       "       [ 0.65843122,  1.        ],\n",
       "       [ 1.17307494,  1.        ],\n",
       "       [ 1.91891026,  1.        ],\n",
       "       [-0.99489616,  1.        ],\n",
       "       [ 0.05920161,  1.        ],\n",
       "       [-0.02432075,  1.        ],\n",
       "       [ 0.29931159,  1.        ],\n",
       "       [-0.13563532,  1.        ],\n",
       "       [-1.11594041,  1.        ],\n",
       "       [ 0.08801311,  1.        ],\n",
       "       [-0.51531077,  1.        ],\n",
       "       [-1.62926392,  1.        ],\n",
       "       [ 1.50396517,  1.        ],\n",
       "       [-1.09102731,  1.        ],\n",
       "       [-1.07197886,  1.        ],\n",
       "       [-0.10350129,  1.        ],\n",
       "       [-2.11536027,  1.        ],\n",
       "       [-0.7098402 ,  1.        ],\n",
       "       [-0.9094476 ,  1.        ],\n",
       "       [-1.80606976,  1.        ],\n",
       "       [ 0.80474842,  1.        ],\n",
       "       [-0.53622102,  1.        ],\n",
       "       [-0.74658433,  1.        ],\n",
       "       [ 1.1069788 ,  1.        ],\n",
       "       [-0.88177588,  1.        ],\n",
       "       [-0.42651849,  1.        ],\n",
       "       [ 0.60221214,  1.        ],\n",
       "       [-1.17902464,  1.        ],\n",
       "       [-1.57206845,  1.        ],\n",
       "       [ 2.89901125,  1.        ],\n",
       "       [-0.7264511 ,  1.        ],\n",
       "       [-1.57428111,  1.        ],\n",
       "       [-1.13223172,  1.        ],\n",
       "       [ 1.27001423,  1.        ],\n",
       "       [ 0.37880995,  1.        ],\n",
       "       [ 1.63910755,  1.        ],\n",
       "       [-0.98512607,  1.        ],\n",
       "       [ 1.27883865,  1.        ],\n",
       "       [-0.61980424,  1.        ],\n",
       "       [ 1.23808645,  1.        ],\n",
       "       [-1.70770251,  1.        ],\n",
       "       [ 0.22668165,  1.        ],\n",
       "       [ 0.70917091,  1.        ],\n",
       "       [ 0.46336112,  1.        ],\n",
       "       [ 1.6146435 ,  1.        ],\n",
       "       [ 0.02741878,  1.        ],\n",
       "       [ 0.79752696,  1.        ],\n",
       "       [ 1.65650188,  1.        ],\n",
       "       [ 0.18887911,  1.        ],\n",
       "       [ 0.42910462,  1.        ],\n",
       "       [-0.16057784,  1.        ],\n",
       "       [ 0.35278242,  1.        ],\n",
       "       [-0.85983864,  1.        ],\n",
       "       [-2.2742058 ,  1.        ],\n",
       "       [ 0.22346633,  1.        ],\n",
       "       [-2.83989531,  1.        ],\n",
       "       [ 0.51615288,  1.        ],\n",
       "       [ 1.74118962,  1.        ],\n",
       "       [-2.25891458,  1.        ],\n",
       "       [-0.8237577 ,  1.        ],\n",
       "       [ 0.21496205,  1.        ],\n",
       "       [ 2.12899904,  1.        ],\n",
       "       [ 2.39271098,  1.        ],\n",
       "       [ 1.40458432,  1.        ],\n",
       "       [-1.26426563,  1.        ],\n",
       "       [-0.0041079 ,  1.        ],\n",
       "       [-0.68021374,  1.        ],\n",
       "       [ 0.01014169,  1.        ],\n",
       "       [-0.39036767,  1.        ],\n",
       "       [ 1.01560837,  1.        ],\n",
       "       [-0.70430404,  1.        ],\n",
       "       [-0.02734534,  1.        ],\n",
       "       [ 1.19650264,  1.        ],\n",
       "       [-0.84474156,  1.        ],\n",
       "       [ 1.85633462,  1.        ],\n",
       "       [ 0.05626737,  1.        ],\n",
       "       [-0.98159805,  1.        ],\n",
       "       [-1.62510228,  1.        ],\n",
       "       [-1.86440962,  1.        ],\n",
       "       [-0.73967224,  1.        ],\n",
       "       [ 0.21943253,  1.        ],\n",
       "       [-1.10962287,  1.        ],\n",
       "       [-2.22443597,  1.        ],\n",
       "       [-0.23781495,  1.        ],\n",
       "       [ 0.93610674,  1.        ],\n",
       "       [ 1.14396966,  1.        ],\n",
       "       [-1.18948741,  1.        ],\n",
       "       [-0.78365375,  1.        ],\n",
       "       [-0.12660052,  1.        ],\n",
       "       [-0.08011679,  1.        ],\n",
       "       [-0.53035149,  1.        ],\n",
       "       [ 0.2822807 ,  1.        ],\n",
       "       [-0.35134693,  1.        ],\n",
       "       [ 0.71993951,  1.        ],\n",
       "       [ 0.24100537,  1.        ],\n",
       "       [ 0.88416711,  1.        ],\n",
       "       [-2.41872485,  1.        ]])"
      ]
     },
     "execution_count": 18,
     "metadata": {},
     "output_type": "execute_result"
    }
   ],
   "source": [
    "#creation de la matrice X\n",
    "X = np.hstack((x, np.ones(x.shape)))\n",
    "X"
   ]
  },
  {
   "cell_type": "code",
   "execution_count": 20,
   "id": "43be7c96",
   "metadata": {},
   "outputs": [
    {
     "data": {
      "text/plain": [
       "array([[2.86011362],\n",
       "       [0.5365769 ]])"
      ]
     },
     "execution_count": 20,
     "metadata": {},
     "output_type": "execute_result"
    }
   ],
   "source": [
    "theta = np.random.randn(2,1)\n",
    "theta"
   ]
  },
  {
   "cell_type": "code",
   "execution_count": 21,
   "id": "f9ca2754",
   "metadata": {},
   "outputs": [],
   "source": [
    "def model(X,theta):\n",
    "    return X.dot(theta)"
   ]
  },
  {
   "cell_type": "code",
   "execution_count": 37,
   "id": "70762e26",
   "metadata": {},
   "outputs": [
    {
     "data": {
      "text/plain": [
       "[<matplotlib.lines.Line2D at 0x7f509d1df850>]"
      ]
     },
     "execution_count": 37,
     "metadata": {},
     "output_type": "execute_result"
    },
    {
     "data": {
      "image/png": "[encoded data removed]",
      "text/plain": [
       "<Figure size 432x288 with 1 Axes>"
      ]
     },
     "metadata": {
      "needs_background": "light"
     },
     "output_type": "display_data"
    }
   ],
   "source": [
    "plt.scatter(x,y)\n",
    "plt.plot(model(X, theta), c='r')"
   ]
  },
  {
   "cell_type": "code",
   "execution_count": 40,
   "id": "41e4a90f",
   "metadata": {},
   "outputs": [],
   "source": [
    "def cost_function(X,y,theta):\n",
    "    m = len(y)\n",
    "    return 1/(2*m) * np.sum((model(X,theta) - y )**2)"
   ]
  },
  {
   "cell_type": "code",
   "execution_count": 41,
   "id": "0043713e",
   "metadata": {},
   "outputs": [
    {
     "data": {
      "text/plain": [
       "112.53050867407038"
      ]
     },
     "execution_count": 41,
     "metadata": {},
     "output_type": "execute_result"
    }
   ],
   "source": [
    "cost_function(X,y,theta)"
   ]
  },
  {
   "cell_type": "code",
   "execution_count": 42,
   "id": "7755ea9a",
   "metadata": {},
   "outputs": [],
   "source": [
    "def grad(X,y,theta):\n",
    "    m = len(y)\n",
    "    return 1/m * X.T.dot(model(X , theta) - y)"
   ]
  },
  {
   "cell_type": "code",
   "execution_count": 43,
   "id": "07c97e41",
   "metadata": {},
   "outputs": [],
   "source": [
    "def gradient_descent(X,y,theta, learning_rate , n_iterations):\n",
    "    for i in range (0 , n_iterations):\n",
    "        theta = theta - learning_rate * grad(X,y,theta)\n",
    "    return theta"
   ]
  },
  {
   "cell_type": "code",
   "execution_count": 45,
   "id": "19d1beab",
   "metadata": {},
   "outputs": [],
   "source": [
    "theta_final = gradient_descent(X,y,theta , learning_rate=0.001 , n_iterations=1000)"
   ]
  },
  {
   "cell_type": "code",
   "execution_count": 46,
   "id": "db10da44",
   "metadata": {},
   "outputs": [
    {
     "data": {
      "text/plain": [
       "array([[10.0797179 ],\n",
       "       [-0.03180007]])"
      ]
     },
     "execution_count": 46,
     "metadata": {},
     "output_type": "execute_result"
    }
   ],
   "source": [
    "theta_final"
   ]
  }
 ],
 "metadata": {
  "kernelspec": {
   "display_name": "Python 3 (ipykernel)",
   "language": "python",
   "name": "python3"
  },
  "language_info": {
   "codemirror_mode": {
    "name": "ipython",
    "version": 3
   },
   "file_extension": ".py",
   "mimetype": "text/x-python",
   "name": "python",
   "nbconvert_exporter": "python",
   "pygments_lexer": "ipython3",
   "version": "3.9.7"
  }
 },
 "nbformat": 4,
 "nbformat_minor": 5
}
